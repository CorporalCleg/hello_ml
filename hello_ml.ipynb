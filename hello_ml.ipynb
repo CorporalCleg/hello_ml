{
 "cells": [
  {
   "cell_type": "code",
   "execution_count": 1,
   "id": "686f29f2",
   "metadata": {},
   "outputs": [],
   "source": [
    "import cv2\n",
    "import sys\n",
    "import numpy as np"
   ]
  },
  {
   "cell_type": "markdown",
   "id": "e8b8cfee",
   "metadata": {},
   "source": [
    "## This n. network can detect digits \"1\" anf \"2\" by photos"
   ]
  },
  {
   "cell_type": "markdown",
   "id": "f15be467",
   "metadata": {},
   "source": [
    "## Code below prepare images for dataset"
   ]
  },
  {
   "cell_type": "code",
   "execution_count": 2,
   "id": "cbe4ef70",
   "metadata": {},
   "outputs": [],
   "source": [
    "#for i in range(30):    \n",
    "#    img = cv2.imread('images/data_{}.jpg'.format(i), cv2.IMREAD_GRAYSCALE)\n",
    "#    res_img = cv2.resize(img, (28, 28), cv2.INTER_NEAREST)\n",
    "    #cv2.imshow('number', res_img)\n",
    "    #cv2.waitKey(0)\n",
    "#    cv2.imwrite('rgimages/data_{}_gray.jpg'.format(i), res_img)"
   ]
  },
  {
   "cell_type": "markdown",
   "id": "8dbe1539",
   "metadata": {},
   "source": [
    "## Neural network itself"
   ]
  },
  {
   "cell_type": "code",
   "execution_count": 2,
   "id": "365954c1",
   "metadata": {},
   "outputs": [],
   "source": [
    "def neural_network(inputs, weights):\n",
    "    \n",
    "    #output vector size\n",
    "    n = np.shape(weights)[0]\n",
    "    \n",
    "    #make output vector\n",
    "    ans = np.zeros(n)\n",
    "    \n",
    "    # computing prediction\n",
    "    ans = np.dot(weights, inputs)\n",
    "    \n",
    "    return ans"
   ]
  },
  {
   "cell_type": "code",
   "execution_count": 3,
   "id": "ec4767e1",
   "metadata": {},
   "outputs": [],
   "source": [
    "def img_to_vect(img): #function that transforms matrix to vector\n",
    "    \n",
    "    #obtain size of vector\n",
    "    h = np.shape(img)[0]\n",
    "    w = np.shape(img)[1]\n",
    "    vect = np.zeros(h * w)\n",
    "    \n",
    "    #overwrite image to vector\n",
    "    for i in range(h):\n",
    "        for j in range(w):\n",
    "            vect[i * w + j] = img[i][j]\n",
    "    \n",
    "    return vect"
   ]
  },
  {
   "cell_type": "code",
   "execution_count": 4,
   "id": "a13cc3e7",
   "metadata": {},
   "outputs": [],
   "source": [
    "def vect_to_img(vect, h, w):#function that transforms vector to matrix\n",
    "    \n",
    "    #size correctness verifying\n",
    "    assert(h * w == len(vect))\n",
    "    img = np.zeros((h, w))\n",
    "    \n",
    "    #overwrite vector to matrix\n",
    "    for i in range(len(vect)):\n",
    "        k = i // h\n",
    "        j = i % w\n",
    "        img[k][j] = vect[k * w + j]\n",
    "        \n",
    "    return img"
   ]
  },
  {
   "cell_type": "markdown",
   "id": "26c48afb",
   "metadata": {},
   "source": [
    "## Create weights, which are arbitary"
   ]
  },
  {
   "cell_type": "code",
   "execution_count": 104,
   "id": "e1fb4f78",
   "metadata": {},
   "outputs": [],
   "source": [
    "wimg = np.ones((2, 28, 28))\n",
    "#cv2.imwrite('weights_number2.jpg', weights)\n",
    "weights = [img_to_vect(wimg[i]) for i in range(2)]"
   ]
  },
  {
   "cell_type": "markdown",
   "id": "b14e544c",
   "metadata": {},
   "source": [
    "## Learning block"
   ]
  },
  {
   "cell_type": "code",
   "execution_count": 132,
   "id": "546f6fe9",
   "metadata": {},
   "outputs": [
    {
     "name": "stdout",
     "output_type": "stream",
     "text": [
      "iter: 0 error: 0.0854 pred: 1 => 0.708, 2 => -0.0106\n",
      "iter: 1 error: 0.0779 pred: 1 => 0.882, 2 => -0.253\n",
      "iter: 2 error: 0.0156 pred: 1 => -0.046, 2 => 0.884\n",
      "iter: 3 error: 0.0298 pred: 1 => -0.0441, 2 => 0.8331\n",
      "iter: 4 error: 0.0246 pred: 1 => 0.9657, 2 => -0.153\n",
      "iter: 5 error: 0.0275 pred: 1 => 0.1355, 2 => 0.9045\n",
      "iter: 6 error: 0.0097 pred: 1 => 1.0929, 2 => 0.033\n",
      "iter: 7 error: 0.0526 pred: 1 => 0.1851, 2 => 0.8646\n",
      "iter: 8 error: 0.0012 pred: 1 => 0.996, 2 => -0.0345\n",
      "iter: 9 error: 0.0175 pred: 1 => 0.0803, 2 => 0.8949\n",
      "iter: 10 error: 0.0012 pred: 1 => 0.0307, 2 => 1.0165\n",
      "iter: 11 error: 0.0018 pred: 1 => 0.0282, 2 => 0.9679\n",
      "iter: 12 error: 0.1198 pred: 1 => 0.342, 2 => 0.9466\n",
      "iter: 13 error: 0.021 pred: 1 => 0.1311, 2 => 0.9387\n",
      "iter: 14 error: 0.0216 pred: 1 => 0.1356, 2 => 0.9431\n",
      "iter: 15 error: 0.1621 pred: 1 => 0.8536, 2 => 0.3751\n",
      "iter: 16 error: 0.0248 pred: 1 => 0.1246, 2 => 0.9035\n",
      "iter: 17 error: 0.0051 pred: 1 => 1.0015, 2 => 0.0715\n",
      "iter: 18 error: 0.0312 pred: 1 => 0.1766, 2 => 1.0015\n",
      "iter: 19 error: 0.0076 pred: 1 => 1.0548, 2 => 0.0679\n",
      "iter: 20 error: 0.001 pred: 1 => 0.0202, 2 => 1.0253\n",
      "iter: 21 error: 0.1536 pred: 1 => 0.8677, 2 => 0.3689\n",
      "iter: 22 error: 0.0138 pred: 1 => -0.07, 2 => 0.9057\n",
      "iter: 23 error: 0.026 pred: 1 => -0.109, 2 => 0.8813\n",
      "iter: 24 error: 0.0052 pred: 1 => 0.9391, 2 => -0.0387\n",
      "iter: 25 error: 0.3285 pred: 1 => 0.6507, 2 => 0.4544\n",
      "iter: 26 error: 0.0033 pred: 1 => 0.9649, 2 => -0.046\n",
      "iter: 27 error: 0.0743 pred: 1 => 0.8819, 2 => 0.2456\n",
      "iter: 28 error: 0.0061 pred: 1 => 1.0758, 2 => 0.0198\n",
      "iter: 29 error: 0.0079 pred: 1 => 0.9916, 2 => -0.0882\n",
      "iter: 30 error: 0.085 pred: 1 => 0.7086, 2 => -0.0101\n",
      "iter: 31 error: 0.0778 pred: 1 => 0.882, 2 => -0.2527\n",
      "iter: 32 error: 0.0155 pred: 1 => -0.0459, 2 => 0.8842\n",
      "iter: 33 error: 0.0298 pred: 1 => -0.0442, 2 => 0.8332\n",
      "iter: 34 error: 0.0247 pred: 1 => 0.9653, 2 => -0.1533\n",
      "iter: 35 error: 0.0274 pred: 1 => 0.1352, 2 => 0.9045\n",
      "iter: 36 error: 0.0097 pred: 1 => 1.0928, 2 => 0.0328\n",
      "iter: 37 error: 0.0525 pred: 1 => 0.1848, 2 => 0.8647\n",
      "iter: 38 error: 0.0012 pred: 1 => 0.9959, 2 => -0.0346\n",
      "iter: 39 error: 0.0174 pred: 1 => 0.0801, 2 => 0.8951\n",
      "iter: 40 error: 0.0012 pred: 1 => 0.0306, 2 => 1.0164\n",
      "iter: 41 error: 0.0018 pred: 1 => 0.028, 2 => 0.968\n",
      "iter: 42 error: 0.1196 pred: 1 => 0.3416, 2 => 0.9465\n",
      "iter: 43 error: 0.0209 pred: 1 => 0.131, 2 => 0.9387\n",
      "iter: 44 error: 0.0216 pred: 1 => 0.1356, 2 => 0.9431\n",
      "iter: 45 error: 0.1616 pred: 1 => 0.8541, 2 => 0.3746\n",
      "iter: 46 error: 0.0248 pred: 1 => 0.1245, 2 => 0.9037\n",
      "iter: 47 error: 0.0051 pred: 1 => 1.0017, 2 => 0.0713\n",
      "iter: 48 error: 0.0312 pred: 1 => 0.1766, 2 => 1.0014\n",
      "iter: 49 error: 0.0076 pred: 1 => 1.0552, 2 => 0.0678\n",
      "iter: 50 error: 0.0011 pred: 1 => 0.0204, 2 => 1.0253\n",
      "iter: 51 error: 0.1534 pred: 1 => 0.8679, 2 => 0.3688\n",
      "iter: 52 error: 0.0138 pred: 1 => -0.07, 2 => 0.9059\n",
      "iter: 53 error: 0.0259 pred: 1 => -0.1088, 2 => 0.8815\n",
      "iter: 54 error: 0.0052 pred: 1 => 0.9393, 2 => -0.0385\n",
      "iter: 55 error: 0.3281 pred: 1 => 0.6508, 2 => 0.4541\n",
      "iter: 56 error: 0.0034 pred: 1 => 0.9651, 2 => -0.0462\n",
      "iter: 57 error: 0.0742 pred: 1 => 0.8817, 2 => 0.2454\n",
      "iter: 58 error: 0.0061 pred: 1 => 1.0757, 2 => 0.0197\n",
      "iter: 59 error: 0.0078 pred: 1 => 0.9916, 2 => -0.0881\n"
     ]
    }
   ],
   "source": [
    "#alpha-cofficient\n",
    "alpha = 0.001\n",
    "\n",
    "for i in range(60):\n",
    "    \n",
    "    #upload image\n",
    "    img = cv2.imread('rgimages/data_{}_gray.jpg'.format(i % 30), cv2.IMREAD_GRAYSCALE)\n",
    "    \n",
    "    #upload what is written on image '1' or '2' \n",
    "    with open(\"ans/out_{}.txt\".format(i % 30), \"r\") as f: \n",
    "        data_o = f.read(2)\n",
    "        true = np.zeros(len(data_o))\n",
    "        for j in range(2):\n",
    "            true[j] = (data_o[j] == '1') * 1.0\n",
    "    \n",
    "    #convert image to vector\n",
    "    data_i = img_to_vect(img) / 255.0\n",
    "    \n",
    "    #make prediction\n",
    "    pred = neural_network(data_i, weights)\n",
    "\n",
    "    #pure mistake\n",
    "    delta = pred - true\n",
    "    \n",
    "    #sqare error\n",
    "    err = np.dot(delta, delta)\n",
    "    \n",
    "    #correct weights using current prediction\n",
    "    for k in range(2):\n",
    "        weights_deltas = data_i * delta[k]\n",
    "        weights[k] -= alpha * weights_deltas\n",
    "    print(\"iter: {} error: {} pred: 1 => {}, 2 => {}\".format(i, round(err, 4), round(pred[0], 4), round(pred[1], 4)))\n",
    "\n",
    "\n",
    "#save weights"
   ]
  },
  {
   "cell_type": "markdown",
   "id": "c8152763",
   "metadata": {},
   "source": [
    "## Code below presents weights as image: the heavier the weight, the lighter the corresponding item"
   ]
  },
  {
   "cell_type": "code",
   "execution_count": 131,
   "id": "f9087053",
   "metadata": {
    "scrolled": false
   },
   "outputs": [],
   "source": [
    "for i in range(2):\n",
    "    \n",
    "    #convert weights to pixel-values range\n",
    "    wimg[i] = vect_to_img(weights[i], 28, 28)\n",
    "    c = max(weights[i]) - min(weights[i])\n",
    "    n_weights = (255 * ((weights[i] - min(weights[i]) * np.ones(len(weights[i])) / c)))\n",
    "    \n",
    "    #convert weights to matrix\n",
    "    wimg[i] = vect_to_img(n_weights, 28, 28)\n",
    "    wimg[i] = wimg[i].astype(int)\n",
    "    \n",
    "    #record image\n",
    "    cv2.imwrite('weights_number{}.jpg'.format(i + 1), wimg[i])\n"
   ]
  },
  {
   "cell_type": "code",
   "execution_count": null,
   "id": "031696e6",
   "metadata": {},
   "outputs": [],
   "source": [
    "#convert test image to data format \n",
    "tst = cv2.imread('images/k-test.jpg', cv2.IMREAD_GRAYSCALE)\n",
    "res_tst = cv2.resize(tst, (28, 28), cv2.INTER_NEAREST)\n",
    "cv2.imwrite('rgimages/k-test_gray.jpg'.format(i), res_tst)"
   ]
  },
  {
   "cell_type": "code",
   "execution_count": 130,
   "id": "3bfe7772",
   "metadata": {},
   "outputs": [
    {
     "name": "stdout",
     "output_type": "stream",
     "text": [
      "error: 0.1202 pred: 1 => 0.1665 2 => 0.6959\n"
     ]
    }
   ],
   "source": [
    "tst_img = cv2.imread('rgimages/k-test_gray.jpg', cv2.IMREAD_GRAYSCALE)\n",
    "data_test = img_to_vect(tst_img) / 255.0\n",
    "\n",
    "#make prediction\n",
    "pred = neural_network(data_test, weights)\n",
    "delta = pred - np.array([0.0, 1.0])\n",
    "err = np.dot(delta, delta)\n",
    "print(\"error: {} pred: 1 => {} 2 => {}\".format(round(err, 4), round(pred[0], 4), round(pred[1], 4)))"
   ]
  },
  {
   "cell_type": "code",
   "execution_count": null,
   "id": "e14037f6",
   "metadata": {},
   "outputs": [],
   "source": []
  }
 ],
 "metadata": {
  "kernelspec": {
   "display_name": "Python 3 (ipykernel)",
   "language": "python",
   "name": "python3"
  },
  "language_info": {
   "codemirror_mode": {
    "name": "ipython",
    "version": 3
   },
   "file_extension": ".py",
   "mimetype": "text/x-python",
   "name": "python",
   "nbconvert_exporter": "python",
   "pygments_lexer": "ipython3",
   "version": "3.10.6"
  }
 },
 "nbformat": 4,
 "nbformat_minor": 5
}
